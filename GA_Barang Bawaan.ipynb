{
 "cells": [
  {
   "cell_type": "markdown",
   "metadata": {},
   "source": [
    "### Import library yang digunakan"
   ]
  },
  {
   "cell_type": "code",
   "execution_count": 121,
   "metadata": {},
   "outputs": [],
   "source": [
    "import numpy as np\n",
    "import pandas as pd\n",
    "import random as rd\n",
    "from random import randint\n",
    "import matplotlib.pyplot as plt"
   ]
  },
  {
   "cell_type": "markdown",
   "metadata": {},
   "source": [
    "Inisiasi Variabel"
   ]
  },
  {
   "cell_type": "code",
   "execution_count": 122,
   "metadata": {},
   "outputs": [],
   "source": [
    "solutions_per_pop = 80\n",
    "num_generations = 100\n",
    "crossover_rate = 0.7\n",
    "mutation_rate = 0.9"
   ]
  },
  {
   "cell_type": "markdown",
   "metadata": {},
   "source": [
    "### Barang-barang yang dibawa"
   ]
  },
  {
   "cell_type": "markdown",
   "metadata": {},
   "source": [
    "#### Barang dalam koper"
   ]
  },
  {
   "cell_type": "code",
   "execution_count": 123,
   "metadata": {},
   "outputs": [
    {
     "name": "stdout",
     "output_type": "stream",
     "text": [
      "The list is as follows:\n",
      "Item No.   Weight   Value\n",
      "1          Pakaian         2         422\n",
      "\n",
      "2          Laptop         3         380\n",
      "\n",
      "3          Dokumen         1         321\n",
      "\n",
      "4          Alat Mandi         2         376\n",
      "\n",
      "5          Buku & Alat Tulis         3         290\n",
      "\n",
      "6          Kamera         3         350\n",
      "\n",
      "7          Sendal         1         245\n",
      "\n",
      "8          Makanan         3         320\n",
      "\n",
      "9          Selimut         1         300\n",
      "\n",
      "10          Boneka         1         120\n",
      "\n",
      "11          Sepatu         1         300\n",
      "\n",
      "12          Alat Rekreasi         3         190\n",
      "\n",
      "13          Minuman         2         251\n",
      "\n",
      "14          Alat Elektronik Lain         2         280\n",
      "\n",
      "15          Alat Sholat         1         340\n",
      "\n"
     ]
    }
   ],
   "source": [
    "item_number = np.arange(1,16)\n",
    "item_name = np.array([\"Pakaian\", \"Laptop\", \"Dokumen\", \"Alat Mandi\", \"Buku & Alat Tulis\", \"Kamera\", \"Sendal\", \"Makanan\", \"Selimut\", \"Boneka\", \"Sepatu\", \"Alat Rekreasi\", \"Minuman\", \"Alat Elektronik Lain\", \"Alat Sholat\"])\n",
    "weight = np.array([2, 3, 1, 2, 3, 3, 1, 3, 1, 1, 1, 3, 2, 2, 1])\n",
    "value = np.array([422, 380, 321, 376, 290, 350, 245, 320, 300, 120, 300, 190, 251, 280, 340])\n",
    "knapsack_threshold = 16    #Berat maksimal pada koper\n",
    "print('The list is as follows:')\n",
    "print('Item No.   Weight   Value')\n",
    "for i in range(item_number.shape[0]):\n",
    "    print('{0}          {1}         {2}         {3}\\n'.format(item_number[i], item_name[i], weight[i], value[i]))"
   ]
  },
  {
   "cell_type": "markdown",
   "metadata": {},
   "source": [
    "#### Barang keseluruhan"
   ]
  },
  {
   "cell_type": "code",
   "execution_count": 124,
   "metadata": {},
   "outputs": [],
   "source": [
    "# item_number = np.arange(1,6)\n",
    "# item_name = np.array([\"Koper\", \"Gitar\", \"Peralatan Gaming\", \"Oleh-oleh\", \"Tripod\", \"Tas Jinjing\"])\n",
    "# weight = np.array([16, 2, 4, 6, 1, 3])\n",
    "# value = np.array([680, 350, 420, 348, 320, 400])\n",
    "# knapsack_threshold = 22    #Maximum weight that the bag of thief can hold \n",
    "# print('The list is as follows:')\n",
    "# print('Item No.   Weight   Value')\n",
    "# for i in range(item_number.shape[0]):\n",
    "#     print('{0}          {1}         {2}         {3}\\n'.format(item_number[i], item_name[i], weight[i], value[i]))"
   ]
  },
  {
   "cell_type": "markdown",
   "metadata": {},
   "source": [
    "### Membuat populasi awal"
   ]
  },
  {
   "cell_type": "code",
   "execution_count": 125,
   "metadata": {},
   "outputs": [
    {
     "name": "stdout",
     "output_type": "stream",
     "text": [
      "Population size = (40, 15)\n",
      "Initial population: \n",
      "[[1 1 0 0 0 0 1 0 1 0 0 1 1 1 1]\n",
      " [1 1 1 1 1 1 1 0 1 0 0 0 1 0 0]\n",
      " [0 1 1 1 0 1 0 1 1 1 0 0 0 1 0]\n",
      " [0 1 1 0 1 1 1 0 1 0 1 1 0 0 1]\n",
      " [0 0 0 1 1 0 0 1 1 0 1 1 1 1 1]\n",
      " [0 1 0 0 1 1 1 0 0 0 0 0 0 0 1]\n",
      " [1 1 1 0 1 0 1 1 1 1 1 0 1 1 1]\n",
      " [0 1 0 0 0 1 0 1 0 0 0 1 1 1 0]\n",
      " [1 0 0 1 0 1 1 0 0 1 1 0 1 0 1]\n",
      " [0 1 1 1 0 0 0 1 0 1 0 0 1 0 0]\n",
      " [1 1 1 1 0 1 1 0 0 1 1 0 0 1 0]\n",
      " [1 0 0 0 0 0 0 0 1 1 1 0 1 0 1]\n",
      " [0 0 1 0 0 0 0 1 1 1 0 1 0 0 1]\n",
      " [1 0 1 1 0 1 0 0 1 1 0 0 0 1 0]\n",
      " [1 1 1 0 0 1 1 1 0 0 1 0 1 1 1]\n",
      " [0 1 1 1 0 1 0 1 1 0 1 0 0 1 1]\n",
      " [0 1 1 1 0 1 0 0 0 0 0 1 1 0 0]\n",
      " [0 0 1 0 0 0 1 1 1 0 1 0 1 1 0]\n",
      " [0 0 0 1 1 1 1 1 1 1 0 1 1 0 1]\n",
      " [1 0 0 0 0 1 0 1 0 0 0 0 0 0 0]\n",
      " [1 0 0 0 1 1 0 0 1 1 1 0 0 0 0]\n",
      " [0 1 1 1 0 1 1 0 1 0 1 1 0 0 0]\n",
      " [1 1 0 0 0 0 1 1 0 0 0 0 1 1 1]\n",
      " [1 0 0 0 1 0 1 0 0 1 1 1 1 0 0]\n",
      " [0 0 1 1 0 0 0 1 0 1 0 1 0 0 0]\n",
      " [0 1 0 1 1 0 1 0 1 0 1 1 1 0 0]\n",
      " [0 1 1 0 1 1 1 0 0 1 0 1 0 1 1]\n",
      " [0 1 1 1 1 1 0 0 1 1 1 0 1 1 0]\n",
      " [1 0 1 1 1 0 0 1 0 1 1 0 0 0 0]\n",
      " [0 1 0 1 0 1 1 0 1 0 1 0 0 1 1]\n",
      " [1 1 1 1 0 0 1 0 0 0 0 1 0 1 1]\n",
      " [1 0 0 1 1 1 0 1 0 1 1 0 0 1 0]\n",
      " [0 0 1 1 1 0 1 1 0 1 1 1 1 0 0]\n",
      " [0 1 1 0 1 1 0 0 0 0 1 0 1 0 0]\n",
      " [1 1 1 0 1 0 0 0 1 1 0 1 0 1 1]\n",
      " [0 0 1 1 0 0 0 1 1 0 0 0 1 1 1]\n",
      " [1 1 1 1 0 1 0 0 1 1 1 0 1 1 0]\n",
      " [1 1 1 1 1 0 1 0 0 1 0 0 1 1 1]\n",
      " [0 0 1 1 0 0 0 1 1 1 1 1 1 1 0]\n",
      " [1 0 1 1 1 0 1 0 1 0 1 1 1 1 1]]\n"
     ]
    }
   ],
   "source": [
    "pop_size = (solutions_per_pop, item_number.shape[0])\n",
    "print('Population size = {}'.format(pop_size))\n",
    "initial_population = np.random.randint(2, size = pop_size)\n",
    "initial_population = initial_population.astype(int)\n",
    "print('Initial population: \\n{}'.format(initial_population))"
   ]
  },
  {
   "cell_type": "markdown",
   "metadata": {},
   "source": [
    "### Menghitung nilai fitness"
   ]
  },
  {
   "cell_type": "code",
   "execution_count": 126,
   "metadata": {},
   "outputs": [],
   "source": [
    "def cal_fitness(weight, value, population, threshold):\n",
    "    fitness = np.empty(population.shape[0])\n",
    "    for i in range(population.shape[0]):\n",
    "        S1 = np.sum(population[i] * value)\n",
    "        S2 = np.sum(population[i] * weight)\n",
    "        if S2 <= threshold:\n",
    "            fitness[i] = S1\n",
    "        else :\n",
    "            fitness[i] = 0\n",
    "    return fitness.astype(int)\n"
   ]
  },
  {
   "cell_type": "markdown",
   "metadata": {},
   "source": [
    "### Melakukan seleksi parent"
   ]
  },
  {
   "cell_type": "code",
   "execution_count": 127,
   "metadata": {},
   "outputs": [],
   "source": [
    "def selection(fitness, num_parents, population):\n",
    "    fitness = list(fitness)\n",
    "    parents = np.empty((num_parents, population.shape[1]))\n",
    "    for i in range(num_parents):\n",
    "        max_fitness_idx = np.where(fitness == np.max(fitness))\n",
    "        parents[i,:] = population[max_fitness_idx[0][0], :]\n",
    "        fitness[max_fitness_idx[0][0]] = -999999\n",
    "    return parents"
   ]
  },
  {
   "cell_type": "markdown",
   "metadata": {},
   "source": [
    "### Melakukan single point crossover"
   ]
  },
  {
   "cell_type": "code",
   "execution_count": 128,
   "metadata": {},
   "outputs": [],
   "source": [
    "def crossover(parents, num_offsprings):\n",
    "    offsprings = np.empty((num_offsprings, parents.shape[1]))\n",
    "    crossover_point = int(parents.shape[1]/2)\n",
    "    i=0\n",
    "    while (parents.shape[0] < num_offsprings):\n",
    "        parent1_index = i%parents.shape[0]\n",
    "        parent2_index = (i+1)%parents.shape[0]\n",
    "        x = rd.random()\n",
    "        if x > crossover_rate:\n",
    "            continue\n",
    "        parent1_index = i%parents.shape[0]\n",
    "        parent2_index = (i+1)%parents.shape[0]\n",
    "        offsprings[i,0:crossover_point] = parents[parent1_index,0:crossover_point]\n",
    "        offsprings[i,crossover_point:] = parents[parent2_index,crossover_point:]\n",
    "        i=+1\n",
    "    return offsprings   "
   ]
  },
  {
   "cell_type": "markdown",
   "metadata": {},
   "source": [
    "### Melakukan mutasi"
   ]
  },
  {
   "cell_type": "code",
   "execution_count": 129,
   "metadata": {},
   "outputs": [],
   "source": [
    "\n",
    "def mutation(offsprings):\n",
    "    mutants = np.empty((offsprings.shape))\n",
    "    for i in range(mutants.shape[0]):\n",
    "        random_value = rd.random()\n",
    "        mutants[i,:] = offsprings[i,:]\n",
    "        if random_value > mutation_rate:\n",
    "            continue\n",
    "        int_random_value = randint(0,offsprings.shape[1]-1)    \n",
    "        if mutants[i,int_random_value] == 0 :\n",
    "            mutants[i,int_random_value] = 1\n",
    "        else :\n",
    "            mutants[i,int_random_value] = 0\n",
    "    return mutants "
   ]
  },
  {
   "cell_type": "markdown",
   "metadata": {},
   "source": [
    "### Menghitung ulang "
   ]
  },
  {
   "cell_type": "code",
   "execution_count": 130,
   "metadata": {},
   "outputs": [],
   "source": [
    "def optimize(weight, value, population, pop_size, num_generations, threshold):\n",
    "    parameters, fitness_history = [], []\n",
    "    num_parents = int(pop_size[0]/2)\n",
    "    num_offsprings = pop_size[0] - num_parents \n",
    "    for i in range(num_generations):\n",
    "        fitness = cal_fitness(weight, value, population, threshold)\n",
    "        fitness_history.append(fitness)\n",
    "        parents = selection(fitness, num_parents, population)\n",
    "        offsprings = crossover(parents, num_offsprings)\n",
    "        mutants = mutation(offsprings)\n",
    "        population[0:parents.shape[0], :] = parents\n",
    "        population[parents.shape[0]:, :] = mutants\n",
    "        \n",
    "    print('Last generation: \\n{}\\n'.format(population)) \n",
    "    fitness_last_gen = cal_fitness(weight, value, population, threshold)      \n",
    "    print('Fitness of the last generation: \\n{}\\n'.format(fitness_last_gen))\n",
    "    max_fitness = np.where(fitness_last_gen == np.max(fitness_last_gen))\n",
    "    parameters.append(population[max_fitness[0][0],:])\n",
    "    return parameters, fitness_history"
   ]
  },
  {
   "cell_type": "markdown",
   "metadata": {},
   "source": [
    "### Hasil algoritma"
   ]
  },
  {
   "cell_type": "code",
   "execution_count": 131,
   "metadata": {},
   "outputs": [
    {
     "name": "stdout",
     "output_type": "stream",
     "text": [
      "Last generation: \n",
      "[[1 1 1 1 0 0 1 0 1 0 1 0 1 1 1]\n",
      " [1 1 1 1 0 0 1 0 1 0 1 0 1 1 1]\n",
      " [1 1 1 1 0 0 1 0 1 0 1 0 1 1 1]\n",
      " [1 1 1 1 0 0 1 0 1 0 1 0 1 1 1]\n",
      " [1 1 1 1 0 0 1 0 1 0 1 0 1 1 1]\n",
      " [1 1 1 1 0 0 1 0 1 0 1 0 1 1 1]\n",
      " [1 1 1 1 0 0 1 0 1 0 1 0 1 1 1]\n",
      " [1 1 1 1 0 0 1 0 1 0 1 0 1 1 1]\n",
      " [1 1 1 1 0 0 1 0 1 0 1 0 1 1 1]\n",
      " [1 1 1 1 0 0 1 0 1 0 1 0 1 1 1]\n",
      " [1 1 1 1 0 0 1 0 1 0 1 0 1 1 1]\n",
      " [1 1 1 1 0 0 1 0 1 0 1 0 1 1 1]\n",
      " [1 1 1 1 0 0 1 0 1 0 1 0 1 1 1]\n",
      " [1 1 1 1 0 0 1 0 1 0 1 0 1 1 1]\n",
      " [1 1 1 1 0 0 1 0 1 0 1 0 1 1 1]\n",
      " [1 1 1 1 0 0 1 0 1 0 1 0 1 1 1]\n",
      " [1 1 1 1 0 0 1 0 1 0 1 0 1 1 1]\n",
      " [1 1 1 1 0 0 1 0 1 0 1 0 1 1 1]\n",
      " [1 1 1 1 0 0 1 0 1 0 1 0 1 1 1]\n",
      " [1 1 1 1 0 0 1 0 1 0 1 0 1 1 1]\n",
      " [1 0 1 0 0 0 1 1 1 0 1 0 1 0 1]\n",
      " [1 1 1 1 0 0 1 0 0 0 1 0 1 1 1]\n",
      " [1 1 1 1 0 0 0 1 1 0 1 0 1 1 1]\n",
      " [0 1 0 0 0 1 1 0 1 0 1 0 1 1 1]\n",
      " [1 0 1 0 0 0 0 0 1 0 1 0 1 0 1]\n",
      " [1 1 0 1 0 0 1 0 0 0 0 1 1 1 1]\n",
      " [0 1 1 1 0 0 1 0 1 1 1 0 1 1 1]\n",
      " [1 0 0 1 0 0 1 0 1 0 1 0 1 1 1]\n",
      " [1 1 0 1 0 0 1 0 1 1 0 1 1 1 1]\n",
      " [1 1 1 0 0 0 1 1 0 0 1 0 0 1 1]\n",
      " [1 1 1 0 0 0 0 0 0 0 1 0 1 1 1]\n",
      " [1 1 1 1 0 0 1 0 1 0 1 0 0 1 1]\n",
      " [1 0 1 1 0 1 0 0 1 1 1 0 1 1 1]\n",
      " [1 1 1 1 0 0 0 1 1 0 1 0 1 1 1]\n",
      " [1 0 0 1 0 0 1 0 1 0 1 0 0 1 0]\n",
      " [1 1 1 1 0 1 1 0 1 0 1 1 1 1 1]\n",
      " [1 1 0 1 0 0 1 0 1 0 1 0 0 0 0]\n",
      " [1 1 1 1 0 0 1 0 1 0 1 0 0 1 1]\n",
      " [1 1 1 0 0 0 1 0 1 0 1 0 0 1 1]\n",
      " [0 1 1 1 0 1 1 0 1 1 1 0 0 1 1]]\n",
      "\n",
      "Fitness of the last generation: \n",
      "[3215 3215 3215 3215 3215 3215 3215 3215 3215 3215 3215 3215 3215 3215\n",
      " 3215 3215 3215 3215 3215 3215 2499 2915    0 2446 1934 2484 2913 2514\n",
      "    0 2608 2294 2964 3060    0 1923    0 2023 2964 2588 3012]\n",
      "\n",
      "The optimized parameters for the given inputs are: \n",
      "[array([1, 1, 1, 1, 0, 0, 1, 0, 1, 0, 1, 0, 1, 1, 1])]\n",
      "\n",
      "Barang terpilih tanpa memenuhi kapasitas koper:\n",
      "1\n",
      "\n",
      "2\n",
      "\n",
      "3\n",
      "\n",
      "4\n",
      "\n",
      "7\n",
      "\n",
      "9\n",
      "\n",
      "11\n",
      "\n",
      "13\n",
      "\n",
      "14\n",
      "\n",
      "15\n",
      "\n"
     ]
    }
   ],
   "source": [
    "parameters, fitness_history = optimize(weight, value, initial_population, pop_size, num_generations, knapsack_threshold)\n",
    "print('The optimized parameters for the given inputs are: \\n{}'.format(parameters))\n",
    "selected_items = item_number * parameters\n",
    "print('\\nBarang terpilih tanpa memenuhi kapasitas koper:')\n",
    "for i in range(selected_items.shape[1]):\n",
    "  if selected_items[0][i] != 0:\n",
    "     print('{}\\n'.format(selected_items[0][i]))"
   ]
  },
  {
   "cell_type": "code",
   "execution_count": 132,
   "metadata": {},
   "outputs": [
    {
     "data": {
      "image/png": "[encoded data removed]",
      "text/plain": [
       "<Figure size 432x288 with 1 Axes>"
      ]
     },
     "metadata": {
      "needs_background": "light"
     },
     "output_type": "display_data"
    },
    {
     "name": "stdout",
     "output_type": "stream",
     "text": [
      "(80, 40)\n"
     ]
    }
   ],
   "source": [
    "fitness_history_mean = [np.mean(fitness) for fitness in fitness_history]\n",
    "fitness_history_max = [np.max(fitness) for fitness in fitness_history]\n",
    "plt.plot(list(range(num_generations)), fitness_history_mean, label = 'Mean Fitness')\n",
    "plt.plot(list(range(num_generations)), fitness_history_max, label = 'Max Fitness')\n",
    "plt.legend()\n",
    "plt.title('Fitness through the generations')\n",
    "plt.xlabel('Generations')\n",
    "plt.ylabel('Fitness')\n",
    "plt.show()\n",
    "print(np.asarray(fitness_history).shape)"
   ]
  }
 ],
 "metadata": {
  "interpreter": {
   "hash": "916dbcbb3f70747c44a77c7bcd40155683ae19c65e1c03b4aa3499c5328201f1"
  },
  "kernelspec": {
   "display_name": "Python 3.8.10 64-bit",
   "language": "python",
   "name": "python3"
  },
  "language_info": {
   "codemirror_mode": {
    "name": "ipython",
    "version": 3
   },
   "file_extension": ".py",
   "mimetype": "text/x-python",
   "name": "python",
   "nbconvert_exporter": "python",
   "pygments_lexer": "ipython3",
   "version": "3.10.1"
  },
  "orig_nbformat": 4
 },
 "nbformat": 4,
 "nbformat_minor": 2
}
